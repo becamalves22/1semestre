{
  "nbformat": 4,
  "nbformat_minor": 0,
  "metadata": {
    "colab": {
      "provenance": [],
      "authorship_tag": "ABX9TyM553+e3xSX4GrU5N1xb4uu",
      "include_colab_link": true
    },
    "kernelspec": {
      "name": "python3",
      "display_name": "Python 3"
    },
    "language_info": {
      "name": "python"
    }
  },
  "cells": [
    {
      "cell_type": "markdown",
      "metadata": {
        "id": "view-in-github",
        "colab_type": "text"
      },
      "source": [
        "<a href=\"https://colab.research.google.com/github/becamalves22/1semestre/blob/main/Python_Aula_2_fixa%C3%A7%C3%A3o.ipynb\" target=\"_parent\"><img src=\"https://colab.research.google.com/assets/colab-badge.svg\" alt=\"Open In Colab\"/></a>"
      ]
    },
    {
      "cell_type": "markdown",
      "source": [
        "A resposta para um cálculo lógico realizado com um dos operadores da Tabela 3 será sempre um valor booleano. Vejamos o exemplo em que a variável a contém o valor 1 e a variável b o valor 5\n",
        "\n"
      ],
      "metadata": {
        "id": "uVZmClKRw0DA"
      }
    },
    {
      "cell_type": "code",
      "execution_count": 2,
      "metadata": {
        "colab": {
          "base_uri": "https://localhost:8080/",
          "height": 0
        },
        "id": "_nEZ9hMewvD-",
        "outputId": "774e82a1-0041-47a7-80b2-1c4a609dd0bd"
      },
      "outputs": [
        {
          "output_type": "stream",
          "name": "stdout",
          "text": [
            "False\n",
            "True\n"
          ]
        }
      ],
      "source": [
        "a = 1  #a recebe 1\n",
        "b = 5 #b recebe 5\n",
        "resposta = a == b #igual\n",
        "resposta2= a != b #diferente\n",
        "\n",
        "print(resposta)\n",
        "print(resposta2)"
      ]
    },
    {
      "cell_type": "markdown",
      "source": [
        "Crie uma variável que receba uma nota de um aluno. Crie outra variável\n",
        "que receba o resultado de uma comparação lógica entre a nota escolhida e o\n",
        "valor 7, que é a média para aprovação. Caso a nota seja maior ou igual a 7, o\n",
        "resultado deve ser verdadeiro. Imprima o resultado da comparação na tela.\n"
      ],
      "metadata": {
        "id": "7toD91m9w0H3"
      }
    },
    {
      "cell_type": "code",
      "source": [
        "notaAluno = int(input('Digite a sua nota: '))\n",
        "notaMedia = 7\n",
        "\n",
        "resposta = notaAluno >= 7\n",
        "\n",
        "print(resposta)"
      ],
      "metadata": {
        "colab": {
          "base_uri": "https://localhost:8080/",
          "height": 0
        },
        "id": "3P6Ew6ZFxQwR",
        "outputId": "47a021a6-3475-48b5-d8a0-889b17c80967"
      },
      "execution_count": 4,
      "outputs": [
        {
          "output_type": "stream",
          "name": "stdout",
          "text": [
            "Digite a sua nota: 7\n",
            "True\n"
          ]
        }
      ]
    },
    {
      "cell_type": "code",
      "source": [
        "frase = 'OLÁ, MUNDO'\n",
        "print(frase [2])\n",
        "\n"
      ],
      "metadata": {
        "colab": {
          "base_uri": "https://localhost:8080/",
          "height": 0
        },
        "id": "w-RJ0us_4lrX",
        "outputId": "bed6b347-0047-4820-9373-0dbc96a2562e"
      },
      "execution_count": 19,
      "outputs": [
        {
          "output_type": "stream",
          "name": "stdout",
          "text": [
            "Á\n"
          ]
        }
      ]
    },
    {
      "cell_type": "markdown",
      "source": [
        "A concatenação é realizada pelo operador de adição (+). Vejamos o\n",
        "exemplo a seguir. Criamos uma variável chamada de s1. Inicialmente, ela recebe\n",
        "parte de um nome. Em seguida, concatenamos o que já temos em s1 com o\n",
        "restante, e imprimimos na tela:"
      ],
      "metadata": {
        "id": "WtaVyIBNJQmg"
      }
    },
    {
      "cell_type": "code",
      "source": [
        "s1='logica de programação'\n",
        "s1 = s1+ ' e algoritmos'\n",
        "print(s1)"
      ],
      "metadata": {
        "colab": {
          "base_uri": "https://localhost:8080/",
          "height": 0
        },
        "id": "95GftP6k_nVk",
        "outputId": "08040fb7-fbc5-4628-f010-0360b7808065"
      },
      "execution_count": 21,
      "outputs": [
        {
          "output_type": "stream",
          "name": "stdout",
          "text": [
            "logica de programação e algoritmos\n"
          ]
        }
      ]
    },
    {
      "cell_type": "markdown",
      "source": [
        "Podemos repetir uma mesma string várias vezes na concatenação\n",
        "utilizando o símbolo de multiplicação (*). No exemplo a seguir, multiplicou-se o\n",
        "caractere do tracejado 10 vezes, facilitando sua escrita."
      ],
      "metadata": {
        "id": "1i3pDOChJKOD"
      }
    },
    {
      "cell_type": "code",
      "source": [
        "s1='A' + '-'*10 + 'B'\n",
        "print(s1)"
      ],
      "metadata": {
        "colab": {
          "base_uri": "https://localhost:8080/",
          "height": 0
        },
        "id": "sH5oBVPoIMwg",
        "outputId": "1b7e04dd-a199-4f7e-a3fb-56e685c4fff0"
      },
      "execution_count": 23,
      "outputs": [
        {
          "output_type": "stream",
          "name": "stdout",
          "text": [
            "A----------B\n"
          ]
        }
      ]
    },
    {
      "cell_type": "markdown",
      "source": [
        "Atenção! Não é possível realizar concatenação quando estivermos\n",
        "tentando juntar strings e variáveis numéricas. Ocorre erro de compilação. Para\n",
        "isso, utilize a composição"
      ],
      "metadata": {
        "id": "-MVwPy5aJSTv"
      }
    },
    {
      "cell_type": "markdown",
      "source": [
        "Imprima na tela uma variável do tipo string que escreva a seguinte frase\n",
        "abaixo. Crie a string concatenando tudo em uma só linha de código.\n",
        "Linguagens de programação:\n",
        "Python ----- C ----- Java ----- PHP\n",
        "Para dar uma quebra de linha (enter), utilize \\n. Para fazer uma tabulação\n",
        "(tab), utilize \\t. Não esqueça de usar também o multiplicador de strings."
      ],
      "metadata": {
        "id": "r7Qp8of-JbgQ"
      }
    },
    {
      "cell_type": "code",
      "source": [
        "frase = ' Linguagens de programação: ' + '\\n Python' + '-' * 5 + 'C' + '-' * 5 + 'Java' +'-' * 5 + 'PHP'\n",
        "print(frase)\n"
      ],
      "metadata": {
        "colab": {
          "base_uri": "https://localhost:8080/",
          "height": 0
        },
        "id": "XBNmKsR9JR7f",
        "outputId": "ccd47dde-ccce-4f51-b392-77d42728f8ef"
      },
      "execution_count": 44,
      "outputs": [
        {
          "output_type": "stream",
          "name": "stdout",
          "text": [
            " Linguagens de programação: \n",
            " Python-----C-----Java-----PHP\n"
          ]
        }
      ]
    },
    {
      "cell_type": "markdown",
      "source": [],
      "metadata": {
        "id": "CK0cJd-WLSng"
      }
    },
    {
      "cell_type": "code",
      "source": [
        "nota=8.5\n",
        "s1= 'Você tirou %f na disciplina de algoritmos' %nota\n",
        "print(s1)\n"
      ],
      "metadata": {
        "colab": {
          "base_uri": "https://localhost:8080/",
          "height": 0
        },
        "id": "x_Oxt4nYSYKc",
        "outputId": "d5388a6f-1bd7-4a72-edbe-33e3df5db87d"
      },
      "execution_count": 45,
      "outputs": [
        {
          "output_type": "stream",
          "name": "stdout",
          "text": [
            "Você tirou 8.500000 na disciplina de algoritmos\n"
          ]
        }
      ]
    },
    {
      "cell_type": "code",
      "source": [
        "nota=8.5\n",
        "s1= 'Você tirou %.1f na disciplina de algoritmos' %nota\n",
        "print(s1)"
      ],
      "metadata": {
        "colab": {
          "base_uri": "https://localhost:8080/",
          "height": 0
        },
        "id": "A4eA-IfxSmxg",
        "outputId": "f550b5d0-a673-4221-f4c0-5a37a703b318"
      },
      "execution_count": 48,
      "outputs": [
        {
          "output_type": "stream",
          "name": "stdout",
          "text": [
            "Você tirou 8.5 na disciplina de algoritmos\n"
          ]
        }
      ]
    },
    {
      "cell_type": "markdown",
      "source": [
        "Variável flutuante e variável string\n"
      ],
      "metadata": {
        "id": "vst6zzF4TREm"
      }
    },
    {
      "cell_type": "code",
      "source": [
        "nota=8.5\n",
        "disciplina= 'algoritmos'\n",
        "s1= 'Você tirou %.1f na disciplina de %s' % (nota, disciplina)\n",
        "print(s1)"
      ],
      "metadata": {
        "colab": {
          "base_uri": "https://localhost:8080/",
          "height": 0
        },
        "id": "gziGryRPTAFJ",
        "outputId": "91689c22-2b65-4ecc-9f5f-538ad4649c3b"
      },
      "execution_count": 49,
      "outputs": [
        {
          "output_type": "stream",
          "name": "stdout",
          "text": [
            "Você tirou 8.5 na disciplina de algoritmos\n"
          ]
        }
      ]
    },
    {
      "cell_type": "markdown",
      "source": [
        "As versões mais recentes do Python passaram a adotar uma nomenclatura alternativa de composição, mais simples e menos dependente do desenvolver preocupar-se com o tipo da variável que está sendo impressa.\n",
        "Em vez de % dentro do texto, usamos chaves.\n",
        "Ao invés do percentual fora do texto, usamos .format.\n",
        "Não trabalhamos com tipos aqui neste formato.\n",
        "E, caso necessário, as casas decimais podem ser informadas dentro das chaves.\n",
        "Veja o exemplo a seguir:"
      ],
      "metadata": {
        "id": "pljB3nEWTef4"
      }
    },
    {
      "cell_type": "code",
      "source": [
        "nota=8.5\n",
        "disciplina= 'algoritmos'\n",
        "s1= 'Você tirou {} na disciplina de {}' .format(nota, disciplina)\n",
        "print(s1)"
      ],
      "metadata": {
        "colab": {
          "base_uri": "https://localhost:8080/",
          "height": 0
        },
        "id": "ety3YzFTTrbJ",
        "outputId": "ad50e2c2-11bf-41d8-e36d-6164b08f925f"
      },
      "execution_count": 50,
      "outputs": [
        {
          "output_type": "stream",
          "name": "stdout",
          "text": [
            "Você tirou 8.5 na disciplina de algoritmos\n"
          ]
        }
      ]
    },
    {
      "cell_type": "markdown",
      "source": [
        "Crie três variáveis distintas. Uma contendo o nome da sua comida favorita.\n",
        "Outra contendo o seu ano de nascimento, e a terceira contendo o resultado da\n",
        "divisão do seu ano de nascimento pela sua idade.\n",
        "Armazene em uma quarta variável do tipo string uma mensagem que\n",
        "contenha todas as informações das variáveis acima.\n",
        "Resolva o exercício da maneira clássica de composição e também da\n",
        "maneira mais moderna"
      ],
      "metadata": {
        "id": "uJnW760fT6jo"
      }
    },
    {
      "cell_type": "code",
      "source": [
        "food= 'Pizza'\n",
        "birthyear= 2002\n",
        "s1=2002/21\n",
        "s2='Minha comida favorita é: {} , Meu ano de nascimento {} e meu ano de nascimento / pela minha idade = {:.2f}' .format(food,birthyear,s1)\n",
        "print(s2)\n",
        "\n",
        "s3= 'Minha comida favorita é: %s , Meu ano de nascimento %d e meu ano de nascimento / pela minha idade = %.2f' % (food, birthyear,s1)\n",
        "print(s3)\n"
      ],
      "metadata": {
        "colab": {
          "base_uri": "https://localhost:8080/",
          "height": 0
        },
        "id": "cUA1Tm2CTdzf",
        "outputId": "a27499a7-559a-4d9d-eb96-66548ae0cd3d"
      },
      "execution_count": 58,
      "outputs": [
        {
          "output_type": "stream",
          "name": "stdout",
          "text": [
            "Minha comida favorita é: Pizza , Meu ano de nascimento 2002 e meu ano de nascimento / pela minha idade = 95.33\n",
            "Minha comida favorita é: Pizza , Meu ano de nascimento 2002 e meu ano de nascimento / pela minha idade = 95.33\n"
          ]
        }
      ]
    },
    {
      "cell_type": "code",
      "source": [
        "s1='Logica de programação e algoritmos'\n",
        "print(s1[0:6])"
      ],
      "metadata": {
        "colab": {
          "base_uri": "https://localhost:8080/",
          "height": 0
        },
        "id": "EirRBeJETTPP",
        "outputId": "e2571067-729a-4b89-f2f3-766022c698ea"
      },
      "execution_count": 59,
      "outputs": [
        {
          "output_type": "stream",
          "name": "stdout",
          "text": [
            "Logica\n"
          ]
        }
      ]
    },
    {
      "cell_type": "code",
      "source": [
        "s1='Logica de programação e algoritmos'\n",
        "print(s1[:6])"
      ],
      "metadata": {
        "colab": {
          "base_uri": "https://localhost:8080/",
          "height": 0
        },
        "id": "0pUrXnOuYzVB",
        "outputId": "2131d210-9bfc-4789-ded4-872106edb49d"
      },
      "execution_count": 60,
      "outputs": [
        {
          "output_type": "stream",
          "name": "stdout",
          "text": [
            "Logica\n"
          ]
        }
      ]
    },
    {
      "cell_type": "code",
      "source": [
        "s1='Logica de programação e algoritmos'\n",
        "print(s1[24:34])"
      ],
      "metadata": {
        "colab": {
          "base_uri": "https://localhost:8080/",
          "height": 0
        },
        "id": "JPgIoe-GY18w",
        "outputId": "303e00b6-3a7e-45de-9424-5ce05201a07e"
      },
      "execution_count": 62,
      "outputs": [
        {
          "output_type": "stream",
          "name": "stdout",
          "text": [
            "algoritmos\n"
          ]
        }
      ]
    },
    {
      "cell_type": "code",
      "source": [
        "s1='Logica de programação e algoritmos'\n",
        "print(s1[24:])"
      ],
      "metadata": {
        "colab": {
          "base_uri": "https://localhost:8080/",
          "height": 0
        },
        "id": "zLyN7z0kY8oI",
        "outputId": "117b44d1-f0f8-4080-bf25-fafe13897e07"
      },
      "execution_count": 63,
      "outputs": [
        {
          "output_type": "stream",
          "name": "stdout",
          "text": [
            "algoritmos\n"
          ]
        }
      ]
    },
    {
      "cell_type": "code",
      "source": [
        "s1='Logica de programação e algoritmos'\n",
        "print(s1[:])"
      ],
      "metadata": {
        "colab": {
          "base_uri": "https://localhost:8080/",
          "height": 0
        },
        "id": "UCt6lp60Y_Mg",
        "outputId": "e5fe36a6-6415-4ccd-98dd-eec0d15a879a"
      },
      "execution_count": 64,
      "outputs": [
        {
          "output_type": "stream",
          "name": "stdout",
          "text": [
            "Logica de programação e algoritmos\n"
          ]
        }
      ]
    },
    {
      "cell_type": "markdown",
      "source": [
        "O valor -1 seria o último caractere, -2 o penúltimo, e\n",
        "assim por diante"
      ],
      "metadata": {
        "id": "jRSMsbrwZHIB"
      }
    },
    {
      "cell_type": "code",
      "source": [
        "s1 = 'Logica de programação e algoritmos'\n",
        "print(s1[:-1])"
      ],
      "metadata": {
        "colab": {
          "base_uri": "https://localhost:8080/",
          "height": 0
        },
        "id": "Dfj-Uf4xZD1b",
        "outputId": "0973689c-a378-4f57-ab41-203506865c69"
      },
      "execution_count": 70,
      "outputs": [
        {
          "output_type": "stream",
          "name": "stdout",
          "text": [
            "Logica de programação e algoritmo\n"
          ]
        }
      ]
    },
    {
      "cell_type": "code",
      "source": [
        "s1='Logica de programação e algoritmos'\n",
        "print(s1[:-24])"
      ],
      "metadata": {
        "colab": {
          "base_uri": "https://localhost:8080/",
          "height": 0
        },
        "id": "OQKNFLYoZl0h",
        "outputId": "342210a3-a8ae-49d0-d8d3-4f646ea01cc0"
      },
      "execution_count": 72,
      "outputs": [
        {
          "output_type": "stream",
          "name": "stdout",
          "text": [
            "Logica de \n"
          ]
        }
      ]
    },
    {
      "cell_type": "code",
      "source": [
        "s1='Logica de programação e algoritmos'\n",
        "tam = len(s1)\n",
        "print(tam)"
      ],
      "metadata": {
        "colab": {
          "base_uri": "https://localhost:8080/",
          "height": 0
        },
        "id": "Qie7jhYNZ73S",
        "outputId": "567c5790-e92c-4570-ce44-4fd05b3c8c79"
      },
      "execution_count": 73,
      "outputs": [
        {
          "output_type": "stream",
          "name": "stdout",
          "text": [
            "34\n"
          ]
        }
      ]
    },
    {
      "cell_type": "markdown",
      "source": [
        "Crie uma variável de string que receba o seu nome completo. Crie uma\n",
        "segunda variável, agora do tipo booleana. Esta variável deverá receber o\n",
        "resultado da comparação lógica que verifica se o tamanho do seu nome é menor\n",
        "ou igual ao valor 15. Imprima a variável booleana na tela"
      ],
      "metadata": {
        "id": "i0Lrlo-uaGzZ"
      }
    },
    {
      "cell_type": "code",
      "source": [
        "s1 = \"Rebeca Martins Alves\"\n",
        "tam = len(s1)\n",
        "print(tam)\n",
        "b = tam <= 15\n",
        "print(b)"
      ],
      "metadata": {
        "colab": {
          "base_uri": "https://localhost:8080/",
          "height": 0
        },
        "id": "3WuZxxtcaGZv",
        "outputId": "bd94555c-89d4-4582-cb55-a342ae226a9a"
      },
      "execution_count": 77,
      "outputs": [
        {
          "output_type": "stream",
          "name": "stdout",
          "text": [
            "20\n",
            "False\n"
          ]
        }
      ]
    },
    {
      "cell_type": "markdown",
      "source": [
        "Função de entrada -  input"
      ],
      "metadata": {
        "id": "-isA7A9SbSN4"
      }
    },
    {
      "cell_type": "code",
      "source": [
        "idade= input('Qual sua idade? ')\n",
        "print(idade)"
      ],
      "metadata": {
        "colab": {
          "base_uri": "https://localhost:8080/",
          "height": 0
        },
        "id": "S2o_TBNCbRoR",
        "outputId": "dc1bd183-34d0-4ef0-b17d-586ac98307e5"
      },
      "execution_count": 79,
      "outputs": [
        {
          "output_type": "stream",
          "name": "stdout",
          "text": [
            "Qual sua idade? 55\n",
            "55\n"
          ]
        }
      ]
    },
    {
      "cell_type": "code",
      "source": [
        "nome = input('Qual seu nome? ')\n",
        "print('Olá {} , seja bem-vindo!'.format(nome))\n"
      ],
      "metadata": {
        "colab": {
          "base_uri": "https://localhost:8080/",
          "height": 0
        },
        "id": "QYwYzmU2cV5D",
        "outputId": "41831622-9a5f-4cdc-dd83-3387a78f721b"
      },
      "execution_count": 84,
      "outputs": [
        {
          "output_type": "stream",
          "name": "stdout",
          "text": [
            "Qual seu nome? vinini\n",
            "Olá vinini , seja bem-vindo!\n"
          ]
        }
      ]
    },
    {
      "cell_type": "markdown",
      "source": [
        "Convertendo dados de entrada"
      ],
      "metadata": {
        "id": "Nd0VrYLTcrQo"
      }
    },
    {
      "cell_type": "code",
      "source": [
        "nota=float(input(\"Qual sua nota em matemática? \"))\n",
        "print('Sua nota em matemática: {:.1f}' .format(nota))"
      ],
      "metadata": {
        "colab": {
          "base_uri": "https://localhost:8080/"
        },
        "id": "K3yzCrpzcoSW",
        "outputId": "5bf1e159-2bb0-4bc9-9243-50e4038d554d"
      },
      "execution_count": 89,
      "outputs": [
        {
          "output_type": "stream",
          "name": "stdout",
          "text": [
            "Qual sua nota em matemática? 10\n",
            "Sua nota em matemática: 10.0\n"
          ]
        }
      ]
    },
    {
      "cell_type": "markdown",
      "source": [
        "Fluxo de execução do programa"
      ],
      "metadata": {
        "id": "5mdycb5CdZI-"
      }
    },
    {
      "cell_type": "code",
      "source": [],
      "metadata": {
        "id": "24ejtRO_eWjg"
      },
      "execution_count": null,
      "outputs": []
    },
    {
      "cell_type": "markdown",
      "source": [
        "Desenvolva um algoritmo que solicite ao usuário dois números inteiros.\n",
        "Imprima a soma destes dois números na tela."
      ],
      "metadata": {
        "id": "eVEJhz10eXNx"
      }
    },
    {
      "cell_type": "code",
      "source": [
        "x=int(input('Digite um nº inteiro: '))\n",
        "y=int(input('Digite outro nº inteiro: '))\n",
        "res='A soma de {} + {} é de: {}. ' .format(x,y, x+y)\n",
        "print(res)"
      ],
      "metadata": {
        "colab": {
          "base_uri": "https://localhost:8080/"
        },
        "id": "-gpoiZgNdY7A",
        "outputId": "3a89d62a-a18b-461b-9d03-c19283f569bb"
      },
      "execution_count": 90,
      "outputs": [
        {
          "output_type": "stream",
          "name": "stdout",
          "text": [
            "Digite um nº inteiro: 10\n",
            "Digite outro nº inteiro: 11\n",
            "A soma de 10 + 11 é de: 21. \n"
          ]
        }
      ]
    },
    {
      "cell_type": "markdown",
      "source": [
        "Desenvolva um algoritmo que solicite ao usuário uma quantidade de dias,\n",
        "de horas, de minutos e de segundos. Calcule o total de segundos resultante e\n",
        "imprima na tela para o usuário."
      ],
      "metadata": {
        "id": "QJSgPH62fI97"
      }
    },
    {
      "cell_type": "code",
      "source": [
        "dias=int(input('Digite uma quantidade de dias: '))\n",
        "horas=int(input('Digite uma quantidade de horas: '))\n",
        "min=int(input('Digite uma quantidade de minutos: '))\n",
        "seg=int(input('Digite uma quantidade de seg: '))\n",
        "total= seg + (min*60) + (horas*60*60) + (dias*24*60*60)\n",
        "res='o total de segundos calculados: {}'.format(total)\n",
        "print(res)\n"
      ],
      "metadata": {
        "colab": {
          "base_uri": "https://localhost:8080/"
        },
        "id": "1ND9XZlPdVUh",
        "outputId": "c38b04c2-c16d-4d86-a505-6a6c6de6182b"
      },
      "execution_count": 93,
      "outputs": [
        {
          "output_type": "stream",
          "name": "stdout",
          "text": [
            "Digite uma quantidade de dias: 5\n",
            "Digite uma quantidade de horas: 2\n",
            "Digite uma quantidade de minutos: 30\n",
            "Digite uma quantidade de seg: 7\n",
            "o total de segundos calculados: 441007\n"
          ]
        }
      ]
    },
    {
      "cell_type": "markdown",
      "source": [
        "Desenvolva um algoritmo que solicite ao usuário o preço de um produto e\n",
        "um percentual de desconto a ser aplicado a ele. Calcule e exiba o valor do\n",
        "desconto e o preço final do produto."
      ],
      "metadata": {
        "id": "OPxdZZvmhlEI"
      }
    },
    {
      "cell_type": "code",
      "source": [
        "preco = float(input('Preço do produto: ' ))\n",
        "p = float(input('Valor de desconto: '))\n",
        "desconto=preco * (p/100)\n",
        "total= preco - desconto\n",
        "print('O valor do desconto é de: {} e o preço final do produto é: {}'.format(desconto, total))\n",
        "\n",
        "\n"
      ],
      "metadata": {
        "colab": {
          "base_uri": "https://localhost:8080/"
        },
        "id": "dvVmD8JUhiCO",
        "outputId": "16be315b-686c-47d3-a6ed-0218a57f1a30"
      },
      "execution_count": 96,
      "outputs": [
        {
          "output_type": "stream",
          "name": "stdout",
          "text": [
            "Preço do produto: 100\n",
            "Valor de desconto: 10\n",
            "O valor do desconto é de: 10.0 e o preço final do produto é: 90.0\n"
          ]
        }
      ]
    },
    {
      "cell_type": "markdown",
      "source": [
        "Desenvolva um algoritmo que converta uma temperatura em Celsius (C)\n",
        "para Fahrenheit (F). A equação de conversão é:\n",
        "𝐹 =(9 × 𝐶/ 5) + 32"
      ],
      "metadata": {
        "id": "HzIZULn1jL5w"
      }
    },
    {
      "cell_type": "code",
      "source": [
        "c = int(input('temperatura em Celsius: '))\n",
        "f= (9* c/5) + 32\n",
        "print('Celsius: {}. Farenheit: {}' .format(c, f))\n"
      ],
      "metadata": {
        "colab": {
          "base_uri": "https://localhost:8080/"
        },
        "id": "taD23QDNjHfy",
        "outputId": "8abfe07e-d980-4a69-9b37-2398e70f2117"
      },
      "execution_count": 98,
      "outputs": [
        {
          "output_type": "stream",
          "name": "stdout",
          "text": [
            "temperatura em Celsius: 50\n",
            "Celsius: 50. Farenheit: 122.0\n"
          ]
        }
      ]
    },
    {
      "cell_type": "code",
      "source": [],
      "metadata": {
        "id": "qX1AlS-Gj4Ky"
      },
      "execution_count": null,
      "outputs": []
    }
  ]
}